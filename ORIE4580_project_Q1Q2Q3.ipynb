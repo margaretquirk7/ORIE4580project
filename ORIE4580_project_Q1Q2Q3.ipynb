{
 "cells": [
  {
   "cell_type": "code",
   "execution_count": 35,
   "metadata": {},
   "outputs": [],
   "source": [
    "#import packages\n",
    "! python -m pip install fitter\n",
    "from fitter import Fitter, get_common_distributions, get_distributions\n",
    "import numpy as np\n",
    "import pandas as pd\n",
    "from datetime import datetime\n",
    "from datetime import date \n",
    "import seaborn as sns\n",
    "from matplotlib import pyplot as plt\n",
    "import math"
   ]
  },
  {
   "cell_type": "markdown",
   "metadata": {},
   "source": [
    "**Question 1**"
   ]
  },
  {
   "cell_type": "code",
   "execution_count": 16,
   "metadata": {},
   "outputs": [
    {
     "name": "stdout",
     "output_type": "stream",
     "text": [
      "Fraction of volunteers that do not respond to alert:  0.19916828879844276\n",
      "Fraction of volunteers that accept alert:  0.36170589276234294\n",
      "Fraction of volunteers that decline alert:  0.4391258184392143\n"
     ]
    }
   ],
   "source": [
    "OHCA_df = pd.read_csv('ProjectData-OHCAs.csv', index_col=0)\n",
    "volunteer_df = pd.read_csv('ProjectData-VolunteerResponses.csv', index_col=0)\n",
    "\n",
    "\n",
    "#0 for no response, 1 for “yes, they accept the alert” and 2 for “no, they decline the alert”) \n",
    "#fraction of volunteers that do not respond to alerts\n",
    "frac_no_response = volunteer_df['Response'].loc[volunteer_df['Response']==0].count()/len(volunteer_df)\n",
    "print('Fraction of volunteers that do not respond to alert: ', frac_no_response)\n",
    "\n",
    "#fraction of volunteers that respond to alert\n",
    "frac_yes = volunteer_df['Response'].loc[volunteer_df['Response']==1].count()/len(volunteer_df)\n",
    "print('Fraction of volunteers that accept alert: ', frac_yes)\n",
    "\n",
    "#fraction of volunteers that decline to alert\n",
    "frac_no = volunteer_df['Response'].loc[volunteer_df['Response']==2].count()/len(volunteer_df)\n",
    "print('Fraction of volunteers that decline alert: ', frac_no)\n"
   ]
  },
  {
   "cell_type": "markdown",
   "metadata": {},
   "source": [
    "**Question 2**"
   ]
  },
  {
   "cell_type": "code",
   "execution_count": 49,
   "metadata": {},
   "outputs": [
    {
     "data": {
      "text/plain": [
       "<matplotlib.axes._subplots.AxesSubplot at 0x124ae2070>"
      ]
     },
     "execution_count": 49,
     "metadata": {},
     "output_type": "execute_result"
    },
    {
     "data": {
      "image/png": "[encoded data removed]",
      "text/plain": [
       "<Figure size 432x288 with 1 Axes>"
      ]
     },
     "metadata": {
      "needs_background": "light"
     },
     "output_type": "display_data"
    }
   ],
   "source": [
    "response_df= volunteer_df.loc[volunteer_df['Response']!=0]\n",
    "sns.histplot(data= response_df, x='Response_Delay')"
   ]
  },
  {
   "cell_type": "markdown",
   "metadata": {},
   "source": [
    "**Question 3**"
   ]
  },
  {
   "cell_type": "code",
   "execution_count": 68,
   "metadata": {},
   "outputs": [
    {
     "name": "stderr",
     "output_type": "stream",
     "text": [
      "Fitting 8 distributions: 100%|██████████| 8/8 [00:00<00:00, 10.95it/s]\n"
     ]
    },
    {
     "data": {
      "text/html": [
       "<div>\n",
       "<style scoped>\n",
       "    .dataframe tbody tr th:only-of-type {\n",
       "        vertical-align: middle;\n",
       "    }\n",
       "\n",
       "    .dataframe tbody tr th {\n",
       "        vertical-align: top;\n",
       "    }\n",
       "\n",
       "    .dataframe thead th {\n",
       "        text-align: right;\n",
       "    }\n",
       "</style>\n",
       "<table border=\"1\" class=\"dataframe\">\n",
       "  <thead>\n",
       "    <tr style=\"text-align: right;\">\n",
       "      <th></th>\n",
       "      <th>sumsquare_error</th>\n",
       "      <th>aic</th>\n",
       "      <th>bic</th>\n",
       "      <th>kl_div</th>\n",
       "      <th>ks_statistic</th>\n",
       "      <th>ks_pvalue</th>\n",
       "    </tr>\n",
       "  </thead>\n",
       "  <tbody>\n",
       "    <tr>\n",
       "      <th>gamma</th>\n",
       "      <td>0.000027</td>\n",
       "      <td>1573.878887</td>\n",
       "      <td>-177663.607962</td>\n",
       "      <td>inf</td>\n",
       "      <td>0.006442</td>\n",
       "      <td>8.443737e-01</td>\n",
       "    </tr>\n",
       "    <tr>\n",
       "      <th>lognorm</th>\n",
       "      <td>0.000076</td>\n",
       "      <td>1467.586036</td>\n",
       "      <td>-168339.001158</td>\n",
       "      <td>inf</td>\n",
       "      <td>0.017758</td>\n",
       "      <td>6.554977e-03</td>\n",
       "    </tr>\n",
       "    <tr>\n",
       "      <th>beta</th>\n",
       "      <td>0.000330</td>\n",
       "      <td>2018.152777</td>\n",
       "      <td>-154980.128051</td>\n",
       "      <td>inf</td>\n",
       "      <td>0.059924</td>\n",
       "      <td>1.075663e-28</td>\n",
       "    </tr>\n",
       "    <tr>\n",
       "      <th>norm</th>\n",
       "      <td>0.001001</td>\n",
       "      <td>2681.083157</td>\n",
       "      <td>-144952.991042</td>\n",
       "      <td>inf</td>\n",
       "      <td>0.098865</td>\n",
       "      <td>1.840534e-77</td>\n",
       "    </tr>\n",
       "    <tr>\n",
       "      <th>expon</th>\n",
       "      <td>0.001673</td>\n",
       "      <td>1365.481486</td>\n",
       "      <td>-140308.461369</td>\n",
       "      <td>inf</td>\n",
       "      <td>0.132460</td>\n",
       "      <td>6.098667e-139</td>\n",
       "    </tr>\n",
       "  </tbody>\n",
       "</table>\n",
       "</div>"
      ],
      "text/plain": [
       "         sumsquare_error          aic            bic  kl_div  ks_statistic  \\\n",
       "gamma           0.000027  1573.878887 -177663.607962     inf      0.006442   \n",
       "lognorm         0.000076  1467.586036 -168339.001158     inf      0.017758   \n",
       "beta            0.000330  2018.152777 -154980.128051     inf      0.059924   \n",
       "norm            0.001001  2681.083157 -144952.991042     inf      0.098865   \n",
       "expon           0.001673  1365.481486 -140308.461369     inf      0.132460   \n",
       "\n",
       "             ks_pvalue  \n",
       "gamma     8.443737e-01  \n",
       "lognorm   6.554977e-03  \n",
       "beta      1.075663e-28  \n",
       "norm      1.840534e-77  \n",
       "expon    6.098667e-139  "
      ]
     },
     "execution_count": 68,
     "metadata": {},
     "output_type": "execute_result"
    },
    {
     "data": {
      "image/png": "[encoded data removed]",
      "text/plain": [
       "<Figure size 360x360 with 1 Axes>"
      ]
     },
     "metadata": {
      "needs_background": "light"
     },
     "output_type": "display_data"
    }
   ],
   "source": [
    "sns.displot(data=response_df, x='Response_Delay', kind='hist', bins=100)\n",
    "h = response_df['Response_Delay'].values\n",
    "\n",
    "f = Fitter(h, distributions=dist)\n",
    "f.fit()\n",
    "f.summary()"
   ]
  },
  {
   "cell_type": "markdown",
   "metadata": {},
   "source": [
    "The top three distributions found using fitting packages are : gamma, lognormal, and beta. The domain for each of the three is discussed below\n",
    "\n",
    "Gamma domain: response delay > 0\n",
    "Lognormal domain: response delay > 0\n",
    "Beta domain: response delay lies between 0 and 1\n",
    "\n",
    "Therefore, both gamma and lognormal distributions are feasible, but since the p-value of the gamma distribution is so much higher, and the test statistic noticably smaller means that the null hypothesis in the k-s fails to be rejected indicating that the values are likely from the same distribution. Therefore, the gamma distribution is determined to be the best fit."
   ]
  },
  {
   "cell_type": "code",
   "execution_count": null,
   "metadata": {},
   "outputs": [],
   "source": []
  }
 ],
 "metadata": {
  "kernelspec": {
   "display_name": "Python 3",
   "language": "python",
   "name": "python3"
  },
  "language_info": {
   "codemirror_mode": {
    "name": "ipython",
    "version": 3
   },
   "file_extension": ".py",
   "mimetype": "text/x-python",
   "name": "python",
   "nbconvert_exporter": "python",
   "pygments_lexer": "ipython3",
   "version": "3.8.3"
  }
 },
 "nbformat": 4,
 "nbformat_minor": 4
}
